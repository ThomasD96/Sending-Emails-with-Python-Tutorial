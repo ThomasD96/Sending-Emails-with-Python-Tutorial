{
 "cells": [
  {
   "cell_type": "code",
   "execution_count": 1,
   "metadata": {},
   "outputs": [
    {
     "data": {
      "text/plain": [
       "(221, b'2.0.0 closing connection 1sm35047935wmz.13 - gsmtp')"
      ]
     },
     "execution_count": 1,
     "metadata": {},
     "output_type": "execute_result"
    }
   ],
   "source": [
    "import smtplib\n",
    "\n",
    "email = 'max.mustermann@gmail.com' # Your email\n",
    "password = 'halloo96' # Your email account password\n",
    "send_to_email = 'max.musterfrau@gmail.com' # Who you are sending the message to\n",
    "message = 'This is my message' # The message in the email\n",
    "\n",
    "server = smtplib.SMTP('smtp.gmail.com', 587) # Connect to the server\n",
    "server.starttls() # Use TLS\n",
    "server.login(email, password) # Login to the email server\n",
    "server.sendmail(email, send_to_email , message) # Send the email\n",
    "server.quit() # Logout of the email server"
   ]
  },
  {
   "cell_type": "code",
   "execution_count": null,
   "metadata": {},
   "outputs": [],
   "source": []
  }
 ],
 "metadata": {
  "kernelspec": {
   "display_name": "Python 3",
   "language": "python",
   "name": "python3"
  },
  "language_info": {
   "codemirror_mode": {
    "name": "ipython",
    "version": 3
   },
   "file_extension": ".py",
   "mimetype": "text/x-python",
   "name": "python",
   "nbconvert_exporter": "python",
   "pygments_lexer": "ipython3",
   "version": "3.7.6"
  }
 },
 "nbformat": 4,
 "nbformat_minor": 4
}
