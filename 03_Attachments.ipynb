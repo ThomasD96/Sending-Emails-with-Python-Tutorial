{
 "cells": [
  {
   "cell_type": "code",
   "execution_count": null,
   "metadata": {},
   "outputs": [],
   "source": [
    "import smtplib\n",
    "from email.mime.text import MIMEText\n",
    "from email.mime.multipart import MIMEMultipart\n",
    "from email.mime.base import MIMEBase\n",
    "from email import encoders\n",
    "import os.path\n",
    "\n",
    "email = 'max.mustermann@gmail.com'\n",
    "password = 'halloo96'\n",
    "send_to_email = 'max.musterfrau@gmail.com'\n",
    "subject = 'This is the subject'\n",
    "message = 'This is my message'\n",
    "file_location = 'C:\\\\Users\\\\You\\\\Desktop\\\\attach.txt'\n",
    "\n",
    "msg = MIMEMultipart()\n",
    "msg['From'] = email\n",
    "msg['To'] = send_to_email\n",
    "msg['Subject'] = subject\n",
    "\n",
    "msg.attach(MIMEText(message, 'plain'))\n",
    "\n",
    "# Setup the attachment\n",
    "filename = os.path.basename(file_location)\n",
    "attachment = open(file_location, \"rb\")\n",
    "part = MIMEBase('application', 'octet-stream')\n",
    "part.set_payload(attachment.read())\n",
    "encoders.encode_base64(part)\n",
    "part.add_header('Content-Disposition', \"attachment; filename= %s\" % filename)\n",
    "\n",
    "# Attach the attachment to the MIMEMultipart object\n",
    "msg.attach(part)\n",
    "\n",
    "server = smtplib.SMTP('smtp.gmail.com', 587)\n",
    "server.starttls()\n",
    "server.login(email, password)\n",
    "text = msg.as_string()\n",
    "server.sendmail(email, send_to_email, text)\n",
    "server.quit()"
   ]
  }
 ],
 "metadata": {
  "kernelspec": {
   "display_name": "Python 3",
   "language": "python",
   "name": "python3"
  },
  "language_info": {
   "codemirror_mode": {
    "name": "ipython",
    "version": 3
   },
   "file_extension": ".py",
   "mimetype": "text/x-python",
   "name": "python",
   "nbconvert_exporter": "python",
   "pygments_lexer": "ipython3",
   "version": "3.7.6"
  }
 },
 "nbformat": 4,
 "nbformat_minor": 4
}
