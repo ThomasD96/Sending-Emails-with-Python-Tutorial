{
 "cells": [
  {
   "cell_type": "code",
   "execution_count": 1,
   "metadata": {},
   "outputs": [
    {
     "data": {
      "text/plain": [
       "(221, b'2.0.0 closing connection e7sm6634130wrp.0 - gsmtp')"
      ]
     },
     "execution_count": 1,
     "metadata": {},
     "output_type": "execute_result"
    }
   ],
   "source": [
    "import smtplib\n",
    "from email.mime.text import MIMEText\n",
    "from email.mime.multipart import MIMEMultipart\n",
    "\n",
    "email = 'max.mustermann@gmail.com'\n",
    "password = 'halloo96'\n",
    "send_to_email = 'max.musterfrau@gmail.com'\n",
    "subject = 'This is the subject'\n",
    "messageHTML = '<p>Visit <a href=\"https://nitratine.net/\">nitratine.net<a> for some great <span style=\"color: #496dd0\">tutorials and projects!</span><p>'\n",
    "messagePlain = 'Visit nitratine.net for some great tutorials and projects!'\n",
    "\n",
    "msg = MIMEMultipart('alternative')\n",
    "msg['From'] = email\n",
    "msg['To'] = send_to_email\n",
    "msg['Subject'] = subject\n",
    "\n",
    "# Attach both plain and HTML versions\n",
    "msg.attach(MIMEText(messagePlain, 'plain'))\n",
    "msg.attach(MIMEText(messageHTML, 'html'))\n",
    "\n",
    "server = smtplib.SMTP('smtp.gmail.com', 587)\n",
    "server.starttls()\n",
    "server.login(email, password)\n",
    "text = msg.as_string()\n",
    "server.sendmail(email, send_to_email, text)\n",
    "server.quit()"
   ]
  },
  {
   "cell_type": "code",
   "execution_count": null,
   "metadata": {},
   "outputs": [],
   "source": []
  }
 ],
 "metadata": {
  "kernelspec": {
   "display_name": "Python 3",
   "language": "python",
   "name": "python3"
  },
  "language_info": {
   "codemirror_mode": {
    "name": "ipython",
    "version": 3
   },
   "file_extension": ".py",
   "mimetype": "text/x-python",
   "name": "python",
   "nbconvert_exporter": "python",
   "pygments_lexer": "ipython3",
   "version": "3.7.6"
  }
 },
 "nbformat": 4,
 "nbformat_minor": 4
}
