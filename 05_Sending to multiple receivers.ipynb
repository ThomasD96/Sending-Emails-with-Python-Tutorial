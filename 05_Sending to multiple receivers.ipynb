{
 "cells": [
  {
   "cell_type": "markdown",
   "metadata": {},
   "source": [
    "If you want to send the same email to many email addresses, the best method would be to first create all the objects you want in the email, login and then make each MIMEMultipart individually for each email."
   ]
  },
  {
   "cell_type": "code",
   "execution_count": null,
   "metadata": {},
   "outputs": [],
   "source": [
    "import smtplib\n",
    "from email.mime.text import MIMEText\n",
    "from email.mime.multipart import MIMEMultipart\n",
    "from email.mime.base import MIMEBase\n",
    "from email import encoders\n",
    "import os.path\n",
    "\n",
    "email = 'myaddress@gmail.com'\n",
    "password = 'password'\n",
    "send_to_emails = ['sentoaddreess@gmail.com', 'sentoaddreess2@gmail.com'] # List of email addresses\n",
    "subject = 'This is the subject'\n",
    "message = 'This is my message'\n",
    "file_location = 'C:\\\\Users\\\\You\\\\Desktop\\\\attach.txt'\n",
    "\n",
    "# Create the attachment file (only do it once)\n",
    "filename = os.path.basename(file_location)\n",
    "attachment = open(file_location, \"rb\")\n",
    "part = MIMEBase('application', 'octet-stream')\n",
    "part.set_payload(attachment.read())\n",
    "encoders.encode_base64(part)\n",
    "part.add_header('Content-Disposition', \"attachment; filename= %s\" % filename)\n",
    "\n",
    "# Connect and login to the email server\n",
    "server = smtplib.SMTP('smtp.gmail.com', 587)\n",
    "server.starttls()\n",
    "server.login(email, password)\n",
    "\n",
    "# Loop over each email to send to\n",
    "for send_to_email in send_to_emails:\n",
    "    # Setup MIMEMultipart for each email address (if we don't do this, the emails will concat on each email sent)\n",
    "    msg = MIMEMultipart()\n",
    "    msg['From'] = email\n",
    "    msg['To'] = send_to_email\n",
    "    msg['Subject'] = subject\n",
    "\n",
    "    # Attach the message to the MIMEMultipart object\n",
    "    msg.attach(MIMEText(message, 'plain'))\n",
    "    # Attach the attachment file\n",
    "    msg.attach(part)\n",
    "\n",
    "    # Send the email to this specific email address\n",
    "    server.sendmail(email, send_to_email, msg.as_string()) \n",
    "\n",
    "# Quit the email server when everything is done\n",
    "server.quit()"
   ]
  },
  {
   "cell_type": "markdown",
   "metadata": {},
   "source": [
    "This method also makes sure that everyone that receives the email will not see the email of everyone else that the email was sent to. If you want to send one email to many addresses and let each recipient see who the email was sent to, you can simply set msg['To'] to the recipient emails split by commas and then call server.send_message to send the email, passing msg not as a string."
   ]
  },
  {
   "cell_type": "code",
   "execution_count": null,
   "metadata": {},
   "outputs": [],
   "source": [
    "send_to_emails = ['recipient_1@gmail.com', 'recipient_2@gmail.com']\n",
    "\n",
    "# Was: msg['To'] = send_to_email\n",
    "msg['To'] = ', '.join(send_to_emails)\n",
    "\n",
    "# Was: server.sendmail(email, send_to_email, text) where text = msg.as_string()\n",
    "server.send_message(msg)"
   ]
  }
 ],
 "metadata": {
  "kernelspec": {
   "display_name": "Python 3",
   "language": "python",
   "name": "python3"
  },
  "language_info": {
   "codemirror_mode": {
    "name": "ipython",
    "version": 3
   },
   "file_extension": ".py",
   "mimetype": "text/x-python",
   "name": "python",
   "nbconvert_exporter": "python",
   "pygments_lexer": "ipython3",
   "version": "3.7.6"
  }
 },
 "nbformat": 4,
 "nbformat_minor": 4
}
